{
 "cells": [
  {
   "cell_type": "code",
   "execution_count": 1,
   "id": "924b9ac2",
   "metadata": {},
   "outputs": [
    {
     "name": "stdout",
     "output_type": "stream",
     "text": [
      "Enter your weight in kg: 65\n",
      "Enter your height in meters: 1.56\n",
      "Over weight\n"
     ]
    }
   ],
   "source": [
    "weight = float(input(\"Enter your weight in kg: \"))\n",
    "height = float(input(\"Enter your height in meters: \"))\n",
    "\n",
    "BMI = weight / height ** 2\n",
    "\n",
    "if BMI < 18.5:\n",
    "    print(\"Under weight\")\n",
    "elif BMI < 25:\n",
    "    print(\"Healthy weight\")\n",
    "else:\n",
    "    print(\"Over weight\")"
   ]
  },
  {
   "cell_type": "code",
   "execution_count": null,
   "id": "1a59363c",
   "metadata": {},
   "outputs": [],
   "source": []
  }
 ],
 "metadata": {
  "kernelspec": {
   "display_name": "Python 3 (ipykernel)",
   "language": "python",
   "name": "python3"
  },
  "language_info": {
   "codemirror_mode": {
    "name": "ipython",
    "version": 3
   },
   "file_extension": ".py",
   "mimetype": "text/x-python",
   "name": "python",
   "nbconvert_exporter": "python",
   "pygments_lexer": "ipython3",
   "version": "3.9.13"
  }
 },
 "nbformat": 4,
 "nbformat_minor": 5
}
